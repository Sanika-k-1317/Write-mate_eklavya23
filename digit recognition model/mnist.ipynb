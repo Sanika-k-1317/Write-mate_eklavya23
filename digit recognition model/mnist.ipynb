{
  "nbformat": 4,
  "nbformat_minor": 0,
  "metadata": {
    "colab": {
      "provenance": [],
      "gpuType": "T4"
    },
    "kernelspec": {
      "name": "python3",
      "display_name": "Python 3"
    },
    "language_info": {
      "name": "python"
    },
    "accelerator": "GPU"
  },
  "cells": [
    {
      "cell_type": "code",
      "execution_count": 1,
      "metadata": {
        "id": "lLJwhPpbFyqm",
        "colab": {
          "base_uri": "https://localhost:8080/"
        },
        "outputId": "37e01873-4cbb-4089-ded6-588fcbe2732f"
      },
      "outputs": [
        {
          "output_type": "stream",
          "name": "stderr",
          "text": [
            "/usr/local/lib/python3.10/dist-packages/sklearn/datasets/_openml.py:968: FutureWarning: The default value of `parser` will change from `'liac-arff'` to `'auto'` in 1.4. You can set `parser='auto'` to silence this warning. Therefore, an `ImportError` will be raised from 1.4 if the dataset is dense and pandas is not installed. Note that the pandas parser may return different data types. See the Notes Section in fetch_openml's API doc for details.\n",
            "  warn(\n"
          ]
        }
      ],
      "source": [
        "import jax\n",
        "from sklearn.datasets import fetch_openml\n",
        "import matplotlib\n",
        "import matplotlib.pyplot as plt\n",
        "import jax.numpy as jnp\n",
        "from jax import grad\n",
        "import jax.lax as lax\n",
        "from jax import random\n",
        "import struct\n",
        "from sklearn.datasets import fetch_openml\n",
        "mnist = fetch_openml('mnist_784')\n",
        "import h5py"
      ]
    },
    {
      "cell_type": "code",
      "source": [
        "x,y = mnist['data'],mnist['target']\n",
        "\n",
        "x_train,x_test = x[:60000], x[60000:]\n",
        "y_train,y_test = y[:60000], y[60000:]\n",
        "\n",
        "x_train =jnp.array(x_train, dtype=jnp.int32)\n",
        "x_test = jnp.array(x_test,dtype = jnp.int32)\n",
        "y_train = jnp.array(y_train,dtype = jnp.int32)\n",
        "y_test = jnp.array(y_test,dtype=jnp.int32)"
      ],
      "metadata": {
        "id": "Pw-jeEPNLqj2"
      },
      "execution_count": 2,
      "outputs": []
    },
    {
      "cell_type": "code",
      "source": [
        "if jax.devices(\"gpu\"):\n",
        "    x_train = jax.device_put(x_train, device=jax.devices(\"gpu\")[0])\n",
        "    y_train = jax.device_put(y_train, device=jax.devices(\"gpu\")[0])\n",
        "    x_test = jax.device_put(x_test, device=jax.devices(\"gpu\")[0])\n",
        "    y_test = jax.device_put(y_test, device=jax.devices(\"gpu\")[0])\n",
        "else:\n",
        "    print(\"No GPU available, using CPU.\")"
      ],
      "metadata": {
        "id": "VXExd7l8Lk5p"
      },
      "execution_count": 3,
      "outputs": []
    },
    {
      "cell_type": "code",
      "source": [
        "x_train = jnp.transpose(jnp.reshape(x_train, (60000, -1)))\n",
        "x_test = jnp.transpose(jnp.reshape(x_test, (10000, -1)))\n",
        "y_train = jnp.reshape(y_train, (1, 60000))\n",
        "y_test = jnp.reshape(y_test, (1, 10000))\n",
        "x_train = x_train / 255.0\n",
        "x_test = x_test / 255.0"
      ],
      "metadata": {
        "id": "LC0Co4_HMQ9v"
      },
      "execution_count": 4,
      "outputs": []
    },
    {
      "cell_type": "code",
      "source": [
        "def one_hot(Y):\n",
        "  Y_size = jnp.size(Y)\n",
        "  Y_max = jnp.max(Y)\n",
        "  one_hot_Y = jnp.zeros((Y_size, Y_max + 1), dtype=jnp.int32)\n",
        "  #sets 0 to 1 at row-jnp.arange(Y_size); column - Y\n",
        "  one_hot_Y=one_hot_Y.at[jnp.arange(Y_size), Y].set(1)\n",
        "  one_hot_Y = jnp.transpose(one_hot_Y)\n",
        "  return one_hot_Y"
      ],
      "metadata": {
        "id": "dM2AuZqBMeWU"
      },
      "execution_count": 6,
      "outputs": []
    },
    {
      "cell_type": "code",
      "source": [
        "def initialize_parameters_deep(layer_dims):\n",
        "   key = jax.random.PRNGKey(0)\n",
        "   parameters = {}\n",
        "   L = len(layer_dims)\n",
        "   for l in range(1, L):\n",
        "          weight_key, key = jax.random.split(key)\n",
        "          parameters['W' + str(l)] = jax.random.normal(weight_key, shape=(layer_dims[l], layer_dims[l - 1])) * jnp.sqrt(2/layer_dims[l - 1])\n",
        "          parameters['b' + str(l)] =jnp.zeros((layer_dims[l],1))\n",
        "   return parameters"
      ],
      "metadata": {
        "id": "uaB-MO9wJHKn"
      },
      "execution_count": 7,
      "outputs": []
    },
    {
      "cell_type": "code",
      "source": [
        "def linear_forward(A, W, b):\n",
        "    Z=jnp.dot(W,A)+b\n",
        "    cache=(A,W,b)\n",
        "    return Z, cache"
      ],
      "metadata": {
        "id": "O6lH70tyMt1W"
      },
      "execution_count": 8,
      "outputs": []
    },
    {
      "cell_type": "code",
      "source": [
        "def relu(z):\n",
        "  return jnp.maximum(0,z),z"
      ],
      "metadata": {
        "id": "9ccRuk22Qj6q"
      },
      "execution_count": 9,
      "outputs": []
    },
    {
      "cell_type": "code",
      "source": [
        "def softmax(z):\n",
        "   s = jnp.exp(z)/jnp.sum(jnp.exp(z), axis = 0, keepdims = True)\n",
        "   return s, z"
      ],
      "metadata": {
        "id": "Xqa7HfHhgEHa"
      },
      "execution_count": 10,
      "outputs": []
    },
    {
      "cell_type": "code",
      "source": [
        "def linear_activation_forward(A_prev, W, b, activation):\n",
        "\n",
        "     if activation == \"relu\":\n",
        "        Z, linear_cache = linear_forward(A_prev, W, b)\n",
        "        A, activation_cache=relu(Z)\n",
        "     elif activation == \"softmax\":\n",
        "        Z, linear_cache = linear_forward(A_prev, W, b)\n",
        "        A, activation_cache = softmax(Z)\n",
        "     cache = (linear_cache, activation_cache)\n",
        "\n",
        "     return A, cache"
      ],
      "metadata": {
        "id": "5QGGCrv9OD1d"
      },
      "execution_count": 11,
      "outputs": []
    },
    {
      "cell_type": "code",
      "source": [
        "def L_model_forward(X, parameters):\n",
        "   caches = []\n",
        "   A = X\n",
        "   L = len(parameters) //2\n",
        "   for l in range(1,L):\n",
        "     A_prev=A\n",
        "     A, cache= linear_activation_forward(A_prev, parameters[\"W\"+str(l)],parameters[\"b\"+str(l)],\"relu\")\n",
        "     caches.append(cache)\n",
        "   AL, cache= linear_activation_forward(A, parameters[\"W\"+str(L)],parameters[\"b\"+str(L)],\"softmax\")\n",
        "\n",
        "   caches.append(cache)\n",
        "\n",
        "   return AL,caches"
      ],
      "metadata": {
        "id": "AAn6eG7Rl_Uy"
      },
      "execution_count": 12,
      "outputs": []
    },
    {
      "cell_type": "code",
      "source": [
        "def compute_cost(AL, Y):\n",
        "    m = Y.shape[1]\n",
        "    cost = -jnp.sum(Y * jnp.log(AL) + (1 - Y) * jnp.log(1 - AL)) / m\n",
        "    jnp.squeeze(cost)\n",
        "\n",
        "    return cost"
      ],
      "metadata": {
        "id": "kJpo3NuQhc21"
      },
      "execution_count": 13,
      "outputs": []
    },
    {
      "cell_type": "code",
      "source": [
        "def linear_backward(dZ, cache):\n",
        "   A_prev, W, b = cache\n",
        "   m = A_prev.shape[1]\n",
        "   dW=(1/m)*(jnp.dot(dZ,A_prev.T))\n",
        "   db=(1/m)*jnp.sum(dZ,axis=1,keepdims=True)\n",
        "   dA_prev=jnp.dot(W.T,dZ)\n",
        "   return dA_prev,dW,db"
      ],
      "metadata": {
        "id": "or87GOAkn4Mn"
      },
      "execution_count": 14,
      "outputs": []
    },
    {
      "cell_type": "code",
      "source": [
        "def softmax_backward(AL, Y):\n",
        "    dZ = AL- Y\n",
        "    return dZ"
      ],
      "metadata": {
        "id": "7Y2G7ttWhzxy"
      },
      "execution_count": 15,
      "outputs": []
    },
    {
      "cell_type": "code",
      "source": [
        "def relu_backward(dA, cache):\n",
        "    Z = cache\n",
        "    dZ = jnp.where(Z > 0, dA, 0)\n",
        "    return dZ"
      ],
      "metadata": {
        "id": "hJ8k1lAXi7tM"
      },
      "execution_count": 16,
      "outputs": []
    },
    {
      "cell_type": "code",
      "source": [
        "def L_model_backward(AL, Y, caches):\n",
        "  grads = {}\n",
        "  L = len(caches)\n",
        "  m = AL.shape[1]\n",
        "  Y = Y.reshape(AL.shape)\n",
        "  current_cache = caches[L-1]\n",
        "  linear_cache, activation_cache =current_cache\n",
        "  dZ=softmax_backward(AL,Y)\n",
        "  dA_prev_temp, dW_temp, db_temp =linear_backward(dZ,linear_cache)\n",
        "  grads[\"dA\" + str(L-1)] = dA_prev_temp\n",
        "  grads[\"dW\" + str(L)] = dW_temp\n",
        "  grads[\"db\" + str(L)] = db_temp\n",
        "  for l in reversed(range(L-1)):\n",
        "    current_cache = caches[l]\n",
        "    linear_cache, activation_cache =current_cache\n",
        "    dZ=relu_backward( dA_prev_temp,activation_cache)\n",
        "    dA_prev_temp, dW_temp, db_temp =linear_backward(dZ,linear_cache)\n",
        "    grads[\"dA\" + str(l)] = dA_prev_temp\n",
        "    grads[\"dW\" + str(l+1)] = dW_temp\n",
        "    grads[\"db\" + str(l+1)] = db_temp\n",
        "  return grads"
      ],
      "metadata": {
        "id": "Stunl980wV4m"
      },
      "execution_count": 17,
      "outputs": []
    },
    {
      "cell_type": "code",
      "source": [
        "def update_parameters(params, grads, learning_rate):\n",
        "  parameters = params.copy()\n",
        "  L = len(parameters) // 2\n",
        "  for l in range(L):\n",
        "        parameters[\"W\" + str(l+1)] =parameters[\"W\" + str(l+1)]-learning_rate*grads[\"dW\"+str(l+1)]\n",
        "        parameters[\"b\" + str(l+1)] =parameters[\"b\" + str(l+1)]-learning_rate*grads[\"db\"+str(l+1)]\n",
        "  return parameters"
      ],
      "metadata": {
        "id": "6VC3M-3Pzvvy"
      },
      "execution_count": 18,
      "outputs": []
    },
    {
      "cell_type": "code",
      "source": [
        "def get_predictions(Y_hat):\n",
        "    return jnp.argmax(Y_hat,0)\n",
        "\n",
        "def get_accuracy(predictions, Y):\n",
        "  #returns true if predictions matches the correct predictions of dataset; sums the total number of true we get\n",
        "  num = jnp.sum(predictions == Y)\n",
        "  #ratio of total number of trues and total number of predictions\n",
        "  accuracy = (num / jnp.size(Y))*100\n",
        "  #print(predictions, Y)\n",
        "  return accuracy"
      ],
      "metadata": {
        "id": "PCIpj1ltlpwu"
      },
      "execution_count": 19,
      "outputs": []
    },
    {
      "cell_type": "code",
      "source": [
        "layers_dims = [784,40,20, 10]"
      ],
      "metadata": {
        "id": "249Bf9qQ3oGx"
      },
      "execution_count": 20,
      "outputs": []
    },
    {
      "cell_type": "code",
      "source": [
        "\n",
        "def L_layer_model(X, Y, layers_dims, learning_rate = 0.75, num_iterations = 3000,print_cost=False):\n",
        "  grads = {}\n",
        "  costs = []\n",
        "  m = X.shape[1]\n",
        "  parameters=initialize_parameters_deep(layers_dims)\n",
        "  for i in range(0, num_iterations):\n",
        "    AL, caches=L_model_forward(X, parameters)\n",
        "    grads=L_model_backward(AL, one_hot(Y), caches)\n",
        "    parameters=update_parameters(parameters, grads, learning_rate)\n",
        "    cost = compute_cost(AL,one_hot(Y))\n",
        "    indices = (jnp.argmax(AL, axis=0), jnp.arange(AL.shape[1]))\n",
        "    Y_predict=jnp.zeros_like(AL)\n",
        "    Y_predict = Y_predict.at[indices].set(1)\n",
        "    if print_cost and i % 100 == 0 or i == num_iterations - 1:\n",
        "            print(\"Cost after iteration {}: {}\".format(i, jnp.squeeze(cost)))\n",
        "            print(\"accuracy : \" , get_accuracy(get_predictions(AL),Y))\n",
        "\n",
        "    if i % 100 == 0 or i == num_iterations:\n",
        "            costs.append(cost)\n",
        "\n",
        "  return parameters,costs, Y_predict,AL"
      ],
      "metadata": {
        "id": "zUxqJAdp0MDF"
      },
      "execution_count": 23,
      "outputs": []
    },
    {
      "cell_type": "code",
      "source": [
        "parameters, costs, Y_predict,AL =L_layer_model(x_train,y_train, layers_dims, 0.2, 6000, True)"
      ],
      "metadata": {
        "colab": {
          "base_uri": "https://localhost:8080/"
        },
        "id": "gavmHWii2j40",
        "outputId": "7611482e-d7cf-4df9-afc3-d2a8c8fbf632"
      },
      "execution_count": 24,
      "outputs": [
        {
          "output_type": "stream",
          "name": "stdout",
          "text": [
            "Cost after iteration 0: 3.341017723083496\n",
            "accuracy :  11.04\n",
            "Cost after iteration 100: 0.5548755526542664\n",
            "accuracy :  90.49333\n",
            "Cost after iteration 200: 0.4314113259315491\n",
            "accuracy :  92.70167\n",
            "Cost after iteration 300: 0.36761412024497986\n",
            "accuracy :  93.89667\n",
            "Cost after iteration 400: 0.3230125904083252\n",
            "accuracy :  94.670006\n",
            "Cost after iteration 500: nan\n",
            "accuracy :  95.24834\n",
            "Cost after iteration 600: nan\n",
            "accuracy :  95.695\n",
            "Cost after iteration 700: nan\n",
            "accuracy :  96.03333\n",
            "Cost after iteration 800: nan\n",
            "accuracy :  96.31333\n",
            "Cost after iteration 900: nan\n",
            "accuracy :  96.59167\n",
            "Cost after iteration 1000: nan\n",
            "accuracy :  96.83834\n",
            "Cost after iteration 1100: nan\n",
            "accuracy :  97.058334\n",
            "Cost after iteration 1200: nan\n",
            "accuracy :  97.23334\n",
            "Cost after iteration 1300: nan\n",
            "accuracy :  97.38333\n",
            "Cost after iteration 1400: nan\n",
            "accuracy :  97.51\n",
            "Cost after iteration 1500: nan\n",
            "accuracy :  97.63667\n",
            "Cost after iteration 1600: nan\n",
            "accuracy :  97.74667\n",
            "Cost after iteration 1700: nan\n",
            "accuracy :  97.875\n",
            "Cost after iteration 1800: nan\n",
            "accuracy :  97.93166\n",
            "Cost after iteration 1900: nan\n",
            "accuracy :  98.02334\n",
            "Cost after iteration 2000: nan\n",
            "accuracy :  98.09667\n",
            "Cost after iteration 2100: nan\n",
            "accuracy :  98.21\n",
            "Cost after iteration 2200: nan\n",
            "accuracy :  98.25167\n",
            "Cost after iteration 2300: nan\n",
            "accuracy :  98.34167\n",
            "Cost after iteration 2400: nan\n",
            "accuracy :  98.39167\n",
            "Cost after iteration 2500: nan\n",
            "accuracy :  98.46167\n",
            "Cost after iteration 2600: nan\n",
            "accuracy :  98.535\n",
            "Cost after iteration 2700: nan\n",
            "accuracy :  98.58833\n",
            "Cost after iteration 2800: nan\n",
            "accuracy :  98.66667\n",
            "Cost after iteration 2900: nan\n",
            "accuracy :  98.725006\n",
            "Cost after iteration 3000: nan\n",
            "accuracy :  98.75667\n",
            "Cost after iteration 3100: nan\n",
            "accuracy :  98.78\n",
            "Cost after iteration 3200: nan\n",
            "accuracy :  98.87501\n",
            "Cost after iteration 3300: nan\n",
            "accuracy :  98.89\n",
            "Cost after iteration 3400: nan\n",
            "accuracy :  98.925\n",
            "Cost after iteration 3500: nan\n",
            "accuracy :  98.96833\n",
            "Cost after iteration 3600: nan\n",
            "accuracy :  99.02\n",
            "Cost after iteration 3700: nan\n",
            "accuracy :  99.02\n",
            "Cost after iteration 3800: nan\n",
            "accuracy :  99.095\n",
            "Cost after iteration 3900: nan\n",
            "accuracy :  99.145004\n",
            "Cost after iteration 4000: nan\n",
            "accuracy :  99.16\n",
            "Cost after iteration 4100: nan\n",
            "accuracy :  99.23334\n",
            "Cost after iteration 4200: nan\n",
            "accuracy :  99.24334\n",
            "Cost after iteration 4300: nan\n",
            "accuracy :  99.278336\n",
            "Cost after iteration 4400: nan\n",
            "accuracy :  99.293335\n",
            "Cost after iteration 4500: nan\n",
            "accuracy :  99.32\n",
            "Cost after iteration 4600: nan\n",
            "accuracy :  99.32167\n",
            "Cost after iteration 4700: nan\n",
            "accuracy :  99.388336\n",
            "Cost after iteration 4800: nan\n",
            "accuracy :  99.39167\n",
            "Cost after iteration 4900: nan\n",
            "accuracy :  99.43167\n",
            "Cost after iteration 5000: nan\n",
            "accuracy :  99.42\n",
            "Cost after iteration 5100: nan\n",
            "accuracy :  99.488335\n",
            "Cost after iteration 5200: nan\n",
            "accuracy :  99.50167\n",
            "Cost after iteration 5300: nan\n",
            "accuracy :  99.54\n",
            "Cost after iteration 5400: nan\n",
            "accuracy :  99.53334\n",
            "Cost after iteration 5500: nan\n",
            "accuracy :  99.58\n",
            "Cost after iteration 5600: nan\n",
            "accuracy :  99.55334\n",
            "Cost after iteration 5700: nan\n",
            "accuracy :  99.613335\n",
            "Cost after iteration 5800: nan\n",
            "accuracy :  99.61667\n",
            "Cost after iteration 5900: nan\n",
            "accuracy :  99.653336\n",
            "Cost after iteration 5999: nan\n",
            "accuracy :  99.66167\n"
          ]
        }
      ]
    },
    {
      "cell_type": "code",
      "source": [
        "def accuracy_test(parameters, X, Y):\n",
        "    AL, caches = AL, caches=L_model_forward(X, parameters)\n",
        "    print(\"accuracy : \" , get_accuracy(get_predictions(AL),Y))\n",
        "\n",
        "\n",
        "    return AL, Y_predict"
      ],
      "metadata": {
        "id": "mz_VLNfWQjSc"
      },
      "execution_count": 25,
      "outputs": []
    },
    {
      "cell_type": "code",
      "source": [
        "AL, Y_predict = accuracy_test(parameters, x_test, y_test)"
      ],
      "metadata": {
        "colab": {
          "base_uri": "https://localhost:8080/"
        },
        "id": "N-g-LJ4VRwF2",
        "outputId": "f4663d98-94a7-47d1-af48-818a024cde40"
      },
      "execution_count": 26,
      "outputs": [
        {
          "output_type": "stream",
          "name": "stdout",
          "text": [
            "accuracy :  97.19\n"
          ]
        }
      ]
    },
    {
      "cell_type": "code",
      "source": [
        "def single_example_testing(example,truevalue):\n",
        "   test_example=example.reshape((784,1))\n",
        "   AL, caches = AL, caches=L_model_forward(test_example, parameters)\n",
        "   answer=jnp.argmax(AL,0)\n",
        "   print(\"true value is: \", truevalue[0])\n",
        "   print(\"predicted value is: \", answer.item())"
      ],
      "metadata": {
        "id": "1PzzjdvER1Ke"
      },
      "execution_count": 55,
      "outputs": []
    },
    {
      "cell_type": "code",
      "source": [
        "random_value = jax.random.randint(jax.random.PRNGKey(5), minval=0, maxval=10001, shape=())\n",
        "example=x_test[:,random_value]\n",
        "truevalue=y_test[:,random_value]\n",
        "example=example.reshape((28,28))\n",
        "plt.imshow(example, cmap='gray')\n",
        "plt.title('Example Image: '+str(random_value))\n",
        "plt.axis('off')\n",
        "plt.show()"
      ],
      "metadata": {
        "colab": {
          "base_uri": "https://localhost:8080/",
          "height": 428
        },
        "id": "I96cNNNVjWqx",
        "outputId": "1dbd3932-70aa-4be7-d4a5-a4e6b3abc3f3"
      },
      "execution_count": 73,
      "outputs": [
        {
          "output_type": "display_data",
          "data": {
            "text/plain": [
              "<Figure size 640x480 with 1 Axes>"
            ],
            "image/png": "[encoded data removed]"
          },
          "metadata": {}
        }
      ]
    },
    {
      "cell_type": "code",
      "source": [
        "single_example_testing(example,truevalue)"
      ],
      "metadata": {
        "colab": {
          "base_uri": "https://localhost:8080/"
        },
        "id": "xlxui0MfZGCj",
        "outputId": "9a60ddcf-4777-4a96-fc17-b17344df96f5"
      },
      "execution_count": 72,
      "outputs": [
        {
          "output_type": "stream",
          "name": "stdout",
          "text": [
            "true value is:  7\n",
            "predicted value is:  7\n"
          ]
        }
      ]
    }
  ]
}