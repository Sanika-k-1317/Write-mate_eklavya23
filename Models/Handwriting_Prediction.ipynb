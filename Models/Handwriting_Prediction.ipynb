{
  "cells": [
    {
      "cell_type": "code",
      "execution_count": 2,
      "metadata": {
        "colab": {
          "base_uri": "https://localhost:8080/"
        },
        "id": "d3nsGEizv5Qr",
        "outputId": "7280ca5b-ffa1-40a3-a01b-5e500f51cce1"
      },
      "outputs": [
        {
          "output_type": "stream",
          "name": "stdout",
          "text": [
            "Mounted at /content/drive\n"
          ]
        }
      ],
      "source": [
        "#uploading google drive on colab\n",
        "from google.colab import drive\n",
        "drive.mount('/content/drive')"
      ]
    },
    {
      "cell_type": "code",
      "execution_count": null,
      "metadata": {
        "colab": {
          "base_uri": "https://localhost:8080/"
        },
        "id": "Webea4eov5MM",
        "outputId": "92e2dec7-8036-4213-9914-8eb54fcc2e70"
      },
      "outputs": [
        {
          "name": "stdout",
          "output_type": "stream",
          "text": [
            "Archive:  /content/drive/My Drive/Data.zip\n",
            "   creating: Data/\n",
            "  inflating: Data/w_id.npy           \n",
            "  inflating: Data/c_len.npy          \n",
            "  inflating: Data/c.npy              \n",
            "  inflating: Data/x_len.npy          \n",
            "  inflating: Data/x.npy              \n"
          ]
        }
      ],
      "source": [
        "#unzipping the files\n",
        "!unzip \"/content/drive/My Drive/Data.zip\""
      ]
    },
    {
      "cell_type": "code",
      "execution_count": null,
      "metadata": {
        "id": "ZMfF1Ggbv5Hk"
      },
      "outputs": [],
      "source": [
        "#data preprocessing\n",
        "data_dir='/content/Data'\n",
        "import data_frame\n",
        "from data_frame import DataFrame\n",
        "import numpy as np\n",
        "import os\n",
        "data_cols = ['x', 'x_len', 'c', 'c_len']\n",
        "data = [np.load(os.path.join(data_dir, '{}.npy'.format(i))) for i in data_cols]"
      ]
    },
    {
      "cell_type": "code",
      "execution_count": null,
      "metadata": {
        "id": "LpRyIdHeD5vW"
      },
      "outputs": [],
      "source": [
        "import jax.numpy as jnp\n",
        "from jax import grad\n",
        "import numpy as np\n",
        "from jax import random\n",
        "import jax"
      ]
    },
    {
      "cell_type": "code",
      "execution_count": null,
      "metadata": {
        "id": "_r3-eL-pCALD"
      },
      "outputs": [],
      "source": [
        "#Loading data\n",
        "x=np.load('/content/drive/MyDrive/writemate data/x.npy')"
      ]
    },
    {
      "cell_type": "code",
      "execution_count": null,
      "metadata": {
        "colab": {
          "base_uri": "https://localhost:8080/"
        },
        "id": "nzyBYp6uDhR4",
        "outputId": "a91fcce0-1ee1-41d7-feed-add94a45a2aa"
      },
      "outputs": [
        {
          "name": "stdout",
          "output_type": "stream",
          "text": [
            "(3, 11911, 1200)\n"
          ]
        }
      ],
      "source": [
        "data=x.transpose(2,0,1)\n",
        "print(data.shape)"
      ]
    },
    {
      "cell_type": "code",
      "execution_count": null,
      "metadata": {
        "id": "Qx_BeKz255Wi"
      },
      "outputs": [],
      "source": [
        "def sigmoid(z):\n",
        "    # sigmoid activation for LSTM gates\n",
        "    return 1.0/(1.0 + jnp.exp(-z))\n",
        "\n",
        "def softmax(y):\n",
        "    #computes softmax probabilities over characters\n",
        "    return jnp.exp(y) / jnp.sum(jnp.exp(y),axis=0)\n",
        "\n",
        "def relu(z):\n",
        "  return jnp.maximum(0,z)"
      ]
    },
    {
      "cell_type": "code",
      "execution_count": null,
      "metadata": {
        "id": "vnQFWwkuoyPT"
      },
      "outputs": [],
      "source": [
        "#Initializing weight matrices\n",
        "def initialize_lstm_weights(key,n_h,n_x,l,params): #nh = 400, n_x = 3\n",
        "    subkeys=random.split(key,4) # need to call random.noraml with new key each time : 9 why???\n",
        "    params['Wc'+ str(l)] = random.normal(subkeys[1],(n_h, n_h+n_x))*0.01 # input to cell state\n",
        "    params['Wi'+ str(l)] = random.normal(subkeys[2],(n_h, n_h+n_x))*0.01 # input to update\n",
        "    params['Wf'+ str(l)] = random.normal(subkeys[3],(n_h, n_h+n_x))*0.01 # input to forget\n",
        "    params['Wo'+ str(l)] = random.normal(subkeys[4],(n_h, n_h+n_x))*0.01 # input to output\n",
        "\n",
        "    params['bc'+ str(l)] = jnp.zeros((n_h, 1)) # hidden bias\n",
        "    params['bi'+ str(l)] = jnp.zeros((n_h, 1)) # forget bias\n",
        "    params['bf'+ str(l)] = jnp.zeros((n_h, 1)) # update bias\n",
        "    params['bo'+ str(l)] = jnp.zeros((n_h, 1)) # output bias\n",
        "    return params"
      ]
    },
    {
      "cell_type": "code",
      "execution_count": null,
      "metadata": {
        "id": "Ty6PEMy1x_jH"
      },
      "outputs": [],
      "source": [
        "#Initialising mdn weights\n",
        "def initialize_mdn_weights(n_h, key,mdn_params):\n",
        "  mdn_in_size  = 3 * n_h # what about x\n",
        "  mix_components = 20\n",
        "  mdn_out_size = 1 + ((1 + 1 + 2 + 2) * mix_components) #mix components = 20\n",
        "\n",
        "  mdn_params['Wy1'] = random.normal(key,(600, mdn_in_size ))*0.01\n",
        "  mdn_params['by1'] = jnp.zeros((600, 1))\n",
        "  mdn_params['Wy2'] = random.normal(key,(mdn_out_size, 600 ))*0.01\n",
        "  mdn_params['by2'] = jnp.zeros((mdn_out_size, 1))\n",
        "\n",
        "  return mdn_params"
      ]
    },
    {
      "cell_type": "code",
      "execution_count": null,
      "metadata": {
        "id": "cSiR1P4m2Deh"
      },
      "outputs": [],
      "source": [
        "#defining lstm cell\n",
        "def lstm_cell(xt,a_prev,c_prev,params, l):\n",
        "\n",
        "  n_x, m = xt.shape\n",
        "  Wc = params['Wc'+ str(l)]\n",
        "  Wi = params['Wi'+ str(l)]\n",
        "  Wf = params['Wf'+ str(l)]\n",
        "  Wo = params['Wo'+ str(l)]\n",
        "\n",
        "  bc = params['bc'+ str(l)]\n",
        "  bi = params['bi'+ str(l)]\n",
        "  bf = params['bf'+ str(l)]\n",
        "  bo = params['bo'+ str(l)]\n",
        "\n",
        "  concat = jnp.concatenate((a_prev, xt), axis=0)\n",
        "\n",
        "  ft = sigmoid(jnp.dot(Wf, concat)+bf)\n",
        "  it =  sigmoid(jnp.dot(Wi, concat)+bi)\n",
        "  cct = jnp.tanh(jnp.dot(Wc, concat)+bc)\n",
        "  c_next = ft* c_prev+  it*cct\n",
        "  ot = sigmoid(jnp.dot(Wo, concat)+bo)\n",
        "  a_next = ot * jnp.tanh(c_next)\n",
        "\n",
        " # cache = (a_next, c_next, a_prev, c_prev, ft, it, cct, ot, xt, params)\n",
        "\n",
        "  return a_next, c_next#, cache"
      ]
    },
    {
      "cell_type": "code",
      "execution_count": null,
      "metadata": {
        "id": "V1YYh4n1IzRH"
      },
      "outputs": [],
      "source": [
        "#LSTM forward propogation\n",
        "def lstm_forward(x, params, l):\n",
        " # caches = [] # xt, a_next, c_next, params, l\n",
        "  n_x, m, T_x = x.shape\n",
        "\n",
        "  # Wy=parameters['Wy']\n",
        "  n_a = 400\n",
        "  #n_y, n_a = Wy.shape\n",
        "\n",
        "  a = jnp.zeros((n_a, m, T_x))\n",
        "  c = jnp.zeros((n_a, m, T_x))\n",
        "  a_next = params['a0'+str(l)]\n",
        "  c_next = jnp.zeros((n_a, m))\n",
        "  for t in range(T_x):\n",
        "        # Get the 2D slice 'xt' from the 3D input 'x' at time step 't'\n",
        "        xt = x[:,:,t]\n",
        "        a_next, c_next=  lstm_cell(xt, a_next, c_next, params, l)\n",
        "        # a[:,:,t] = a_next  #x = x.at[idx].set(y)\n",
        "        idx = (..., t)\n",
        "        a=a.at[idx].set(a_next)\n",
        "        c= c.at[idx].set(c_next)\n",
        "        # caches.append[cache]\n",
        "        # caches = [caches, x]\n",
        "  return a, c#, caches"
      ]
    },
    {
      "cell_type": "code",
      "execution_count": null,
      "metadata": {
        "id": "Fhk-I7RuNzsJ"
      },
      "outputs": [],
      "source": [
        "def mdn_linear_layer(x,mdn_params):\n",
        "  Wy1 = mdn_params['Wy1']\n",
        "  by1 = mdn_params['by1']\n",
        "  Wy2 = mdn_params['Wy2']\n",
        "  by2 = mdn_params['by2']\n",
        "  Z1 = jnp.dot(Wy1,x)+by1 #600,m\n",
        "  A1 = relu(Z1)\n",
        "  Z2 = jnp.dot(Wy2,A1)+by2 #121,m\n",
        "  A2 = relu(Z2)\n",
        "  return A2"
      ]
    },
    {
      "cell_type": "code",
      "execution_count": null,
      "metadata": {
        "id": "o58hNo7gLPgD"
      },
      "outputs": [],
      "source": [
        "#Separating the mixture density parameters\n",
        "def mixtureDensity_params(Z): # Z.shape=121,m\n",
        "\n",
        "  last_index = Z.shape[0] # doubt in spitting\n",
        "#  mdn_params = Z[0, 0: last_index]\n",
        "  mdn_params = Z[1:]  # Select rows from the 2nd row to the 121st row\n",
        "\n",
        "  pi_hat, mu1_hat, mu2_hat, sigma1_hat, sigma2_hat, rho_hat = jnp.split(mdn_params,6,0)\n",
        " # 20,m\n",
        "  eos_hat = Z[0]\n",
        "  eos = sigmoid(eos_hat)\n",
        "  rho = jnp.tanh(rho_hat)\n",
        "  pi = sigmoid(pi_hat)\n",
        "\n",
        "  sigma1 = jnp.exp(sigma1_hat)\n",
        "  sigma2 = jnp.exp(sigma2_hat)\n",
        "\n",
        "  mu1 = mu1_hat\n",
        "  mu2 = mu2_hat\n",
        "\n",
        "  return mu1, mu2, sigma1, sigma2, pi, eos, rho"
      ]
    },
    {
      "cell_type": "code",
      "execution_count": null,
      "metadata": {
        "id": "HUHuetRhkT3K"
      },
      "outputs": [],
      "source": [
        "def mixtureDensity(mu1, mu2, sigma1, sigma2, pi, eos, rho, x1, x2):\n",
        "   x_mu1 = x1-mu1\n",
        "   x_mu2 = x2-mu2 #1,m\n",
        "   Z_out = jnp.square(jnp.divide(x_mu1, sigma1)) + jnp.square(jnp.divide(x_mu2, sigma2)) - 2*jnp.divide(rho*x_mu1*x_mu2,sigma1*sigma2)\n",
        "   rho_square_term = 1-jnp.square(rho)\n",
        "\n",
        "   power_e = jnp.exp(jnp.divide(-Z_out, 2*rho_square_term))\n",
        "\n",
        "   regularize_term = 2* jnp.pi*sigma1*sigma2*jnp.sqrt(rho_square_term)\n",
        "\n",
        "   gaussian = jnp.divide(power_e, regularize_term)\n",
        "\n",
        "   return jnp.sum(gaussian*pi)"
      ]
    },
    {
      "cell_type": "code",
      "execution_count": null,
      "metadata": {
        "id": "rjvAG5Xsn2zf"
      },
      "outputs": [],
      "source": [
        "#calculating probability\n",
        "def get_prob(x1, x2, eos_true, Z):\n",
        "  mu1, mu2, sigma1, sigma2, pi, eos, rho = mixtureDensity_params(Z)\n",
        "  eps = jnp.finfo(float).eps\n",
        "  prob=0.0\n",
        "  for i in range(20):\n",
        "    prob+=mixtureDensity(mu1[i], mu2[i], sigma1[i], sigma2[i], pi[i], eos, rho[i], x1, x2)\n",
        "  return prob, jnp.sum(jnp.log(jnp.squeeze((eos * (eos_true + eps) + (1 - eos) * (1 - eos_true + eps))))) #might be used for log"
      ]
    },
    {
      "cell_type": "code",
      "execution_count": null,
      "metadata": {
        "id": "OUaF_9HYsdmG"
      },
      "outputs": [],
      "source": [
        "#Calculating loss\n",
        "def get_loss(x1, x2, e_true, Z):\n",
        "  prob, stroke_prob = get_prob(x1, x2, e_true, Z)\n",
        "  # loss = jnp.sum((jnp.log(prob) * mask)) + jnp.sum(stroke_prob * mask) / jnp.sum(mask)\n",
        "  loss=prob+stroke_prob\n",
        "  return (-1)*loss"
      ]
    },
    {
      "cell_type": "code",
      "execution_count": null,
      "metadata": {
        "id": "XEjAhPlbK2yu"
      },
      "outputs": [],
      "source": [
        "def model(data,all_params,m):\n",
        "  n_a = 400\n",
        "  T_x=1200\n",
        "#  cache_model = {} #a0 to be defined\n",
        "  a1 , c1 = lstm_forward(data,all_params,1)\n",
        "  x2 = jnp.concatenate((a1, data), axis=0)\n",
        "  a2, c2= lstm_forward(x2,all_params,2)\n",
        "  x3 = jnp.concatenate((a2, data), axis=0)\n",
        "  a3, c3 = lstm_forward(x3,all_params,3)\n",
        "  h = jnp.concatenate((a1, a2, a3), axis=0)\n",
        "  total_loss=0.0\n",
        "  for t in range(T_x):\n",
        "   Z = mdn_linear_layer(h[:,:,t],all_params)\n",
        "   total_loss+=get_loss(data[0,:,t],data[1,:,t],data[2,:,t],Z)\n",
        "  return total_loss"
      ]
    },
    {
      "cell_type": "code",
      "execution_count": null,
      "metadata": {
        "id": "gE2Tpg0AeNeF"
      },
      "outputs": [],
      "source": [
        "#Gradient clipping\n",
        "def gradient_clipping(W):\n",
        "  return jnp.clip(W, -10, 10)"
      ]
    },
    {
      "cell_type": "code",
      "execution_count": null,
      "metadata": {
        "id": "44H5uZCccqe0"
      },
      "outputs": [],
      "source": [
        "#updating parameters\n",
        "def update_parameters(parameters, grads, learning_rate):\n",
        "  #parameters = params.copy() : i have not created copy of parameters\n",
        "  L =  3\n",
        "  for l in range(L):\n",
        "        parameters[\"Wc\" + str(l+1)] =parameters[\"Wc\" + str(l+1)] - learning_rate * gradient_clipping(grads[\"Wc\" + str(l+1)])\n",
        "\n",
        "        parameters[\"Wi\" + str(l+1)] =parameters[\"Wi\" + str(l+1)] - learning_rate * gradient_clipping(grads[\"Wi\" + str(l+1)])\n",
        "\n",
        "        parameters[\"Wf\" + str(l+1)] =parameters[\"Wf\" + str(l+1)] - learning_rate * gradient_clipping(grads[\"Wf\" + str(l+1)])\n",
        "\n",
        "        parameters[\"Wo\" + str(l+1)] =parameters[\"Wo\" + str(l+1)] - learning_rate * gradient_clipping(grads[\"Wo\" + str(l+1)])\n",
        "\n",
        "        parameters[\"bc\" + str(l+1)] =parameters[\"bc\" + str(l+1)] - learning_rate * gradient_clipping(grads[\"bc\" + str(l+1)])\n",
        "\n",
        "        parameters[\"bi\" + str(l+1)] =parameters[\"bi\" + str(l+1)] - learning_rate * gradient_clipping(grads[\"bi\" + str(l+1)])\n",
        "\n",
        "        parameters[\"bf\" + str(l+1)] =parameters[\"bf\" + str(l+1)] - learning_rate * gradient_clipping(grads[\"bf\" + str(l+1)])\n",
        "\n",
        "        parameters[\"bo\" + str(l+1)] =parameters[\"bo\" + str(l+1)] - learning_rate * gradient_clipping(grads[\"bo\" + str(l+1)])\n",
        "  parameters[\"Wy1\"] =parameters[\"Wy1\"] - learning_rate * gradient_clipping(grads[\"Wy1\" + str(l+1)])\n",
        "  parameters[\"by1\"] =parameters[\"by1\"] - learning_rate * gradient_clipping(grads[\"by1\" + str(l+1)])\n",
        "  parameters[\"Wy2\"] =parameters[\"Wy2\"] - learning_rate * gradient_clipping(grads[\"Wy2\" + str(l+1)])\n",
        "  parameters[\"by2\"] =parameters[\"by2\"] - learning_rate * gradient_clipping(grads[\"by2\" + str(l+1)])\n",
        "\n",
        "  return parameters"
      ]
    },
    {
      "cell_type": "code",
      "execution_count": null,
      "metadata": {
        "colab": {
          "base_uri": "https://localhost:8080/"
        },
        "id": "N-iOYqR75tCs",
        "outputId": "35fdc334-dfc1-4fbc-9637-22159043cc69"
      },
      "outputs": [
        {
          "data": {
            "text/plain": [
              "(3, 11911, 1200)"
            ]
          },
          "execution_count": 18,
          "metadata": {},
          "output_type": "execute_result"
        }
      ],
      "source": [
        "data.shape"
      ]
    },
    {
      "cell_type": "code",
      "execution_count": null,
      "metadata": {
        "id": "fCEfDuwR6B8Q"
      },
      "outputs": [],
      "source": [
        "pred_data=data[:,1:]"
      ]
    },
    {
      "cell_type": "code",
      "execution_count": null,
      "metadata": {
        "colab": {
          "base_uri": "https://localhost:8080/"
        },
        "id": "_X9jFvpI6MQH",
        "outputId": "1de0fc11-c1ca-4101-a220-50d2db8d45ac"
      },
      "outputs": [
        {
          "data": {
            "text/plain": [
              "(3, 11910, 1200)"
            ]
          },
          "execution_count": 20,
          "metadata": {},
          "output_type": "execute_result"
        }
      ],
      "source": [
        "pred_data.shape"
      ]
    },
    {
      "cell_type": "code",
      "execution_count": null,
      "metadata": {
        "colab": {
          "base_uri": "https://localhost:8080/"
        },
        "id": "3lbKTLW06Qaf",
        "outputId": "7a1ab25a-aa8a-4674-a008-bda19ffe3adf"
      },
      "outputs": [
        {
          "name": "stdout",
          "output_type": "stream",
          "text": [
            "[ 0.18620381 -1.815487    0.        ]\n",
            "[ 0.18620381 -1.815487    0.        ]\n"
          ]
        }
      ],
      "source": [
        "print(data[:,1,10])\n",
        "print(pred_data[:,0,10])"
      ]
    },
    {
      "cell_type": "code",
      "execution_count": null,
      "metadata": {
        "id": "FcdHbXQ_FSgP"
      },
      "outputs": [],
      "source": [
        "def final_model(data,num_epochs,learning_rate):\n",
        "  key = random.PRNGKey(0)\n",
        "  hidden_size=400\n",
        "  feature_dim=3\n",
        "  all_params = {}\n",
        "  key,subkey = random.split(key)\n",
        "  all_params = initialize_lstm_weights(subkey,hidden_size, feature_dim, 1,all_params) #feature_dim = 3\n",
        "\n",
        "  key,subkey = random.split(key)\n",
        "  input_dim = feature_dim + hidden_size\n",
        "  all_params = initialize_lstm_weights(subkey,hidden_size, input_dim, 2,all_params)\n",
        "\n",
        "  key,subkey = random.split(key)\n",
        "  all_params = initialize_lstm_weights(subkey,hidden_size, input_dim, 3,all_params)\n",
        "\n",
        "  key, subkey = random.split(key)\n",
        "  all_params = initialize_mdn_weights(hidden_size, key,all_params)\n",
        "  batch_size=16\n",
        "  batches=11910// batch_size\n",
        "  index=0\n",
        "  all_params['a01']=jnp.zeros((n_a,m))\n",
        "  all_params['a02']=jnp.zeros((n_a, m))\n",
        "  all_params['a03']=jnp.zeros((n_a, m))\n",
        "  for epoch in range(num_epochs):  #num_epochs\n",
        "    for batch in range(batches):\n",
        "      x_temp=data[:,index:index+batch_size,:]\n",
        "      loss = model(x_temp,all_params,16)\n",
        "      print(loss)\n",
        "      grads = grad(model)(x_temp,all_params,16)\n",
        "      print(grads.keys())\n",
        "      print(grads)\n",
        "      index+=batch_size\n",
        "      all_params = update_parameters(all_params, grads, learning_rate)\n"
      ]
    },
    {
      "cell_type": "code",
      "execution_count": null,
      "metadata": {
        "colab": {
          "background_save": true,
          "base_uri": "https://localhost:8080/"
        },
        "id": "7CAxFtysOH3G",
        "outputId": "5b41ef60-2763-4d9a-e8ec-d328b06d30b6"
      },
      "outputs": [
        {
          "name": "stdout",
          "output_type": "stream",
          "text": [
            "-10720.922\n"
          ]
        }
      ],
      "source": [
        "#final_model(pred_data,1000,0.001)\n",
        "#printed first loss"
      ]
    }
  ],
  "metadata": {
    "colab": {
      "provenance": []
    },
    "kernelspec": {
      "display_name": "Python 3",
      "name": "python3"
    },
    "language_info": {
      "name": "python"
    }
  },
  "nbformat": 4,
  "nbformat_minor": 0
}